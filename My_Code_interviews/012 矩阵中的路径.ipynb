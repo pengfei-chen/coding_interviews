{
 "cells": [
  {
   "cell_type": "code",
   "execution_count": 21,
   "id": "3a27b59d",
   "metadata": {},
   "outputs": [],
   "source": [
    "#\n",
    "# 代码中的类名、方法名、参数名已经指定，请勿修改，直接返回方法规定的值即可\n",
    "#\n",
    "# \n",
    "# @param matrix char字符型二维数组 \n",
    "# @param word string字符串 \n",
    "# @return bool布尔型\n",
    "#\n",
    "class Solution:\n",
    "    def hasPath(self , matrix , word ):\n",
    "        # write code here\n",
    "        if len(matrix) == 0 or len(matrix[0]) == 0 or len(word) == 0:\n",
    "            return False\n",
    "        self.res = False\n",
    "        def dfs(start,visit,row,col):\n",
    "            if start == len(word):\n",
    "                self.res = True  #如果start能走到和查询字符串一样的长度，则res为真\n",
    "                #  只要有一条路径能走通，res 就会一直是 True\n",
    "                return \n",
    "            if not (col>=0 and col < len(matrix[0]) and row>=0 and row <len(matrix)):\n",
    "                # 这其中的任何一个条件不满足，直接返回\n",
    "                return \n",
    "            matrix[row][col]\n",
    "            word[start]\n",
    "            visit[row][col]\n",
    "            if matrix[row][col] != word[start] or visit[row][col]==True:\n",
    "                # 如果矩阵中当前元素的值不等于查询字符串中的值 或 visit 中已经对应为True\n",
    "                return \n",
    "            visit[row][col] = True   # 如果上述情况都没有发生\n",
    "            # 那就标记这个点，说明这个点已经被 用 过了\n",
    "            dfs(start+1,visit[:],row-1,col) #向下\n",
    "            dfs(start+1,visit[:],row+1,col) #向上\n",
    "            dfs(start+1,visit[:],row,col-1) #向左\n",
    "            dfs(start+1,visit[:],row,col+1) #向右\n",
    "            visit[row][col] = False   #这一步一定要记得！ 复原当前步骤用过的标记\n",
    "            # 因为复原当前节点的标记，不会再影响走当前路径的结果。\n",
    "            # 但是如果不复原，其他路径有可能会用到当前节点，但当前节点被标记为 True(已使用)，从而影响结果。\n",
    "            \n",
    "        for i in range(len(matrix)):\n",
    "            for j in range(len(matrix[0])):\n",
    "                visit = [[False for m in range(len(matrix[0]))] for n in range(len(matrix))]\n",
    "                dfs(0,visit,i,j)  # 不知道哪个点是 word 字符串的起点，遍历之\n",
    "        return self.res"
   ]
  },
  {
   "cell_type": "code",
   "execution_count": 24,
   "id": "ea946821",
   "metadata": {},
   "outputs": [
    {
     "name": "stdout",
     "output_type": "stream",
     "text": [
      "[['a', 'b'], ['c', 'd']]\n"
     ]
    },
    {
     "data": {
      "text/plain": [
       "False"
      ]
     },
     "execution_count": 24,
     "metadata": {},
     "output_type": "execute_result"
    }
   ],
   "source": [
    "s = Solution()\n",
    "matrix = [['a','b'],['c','d']]\n",
    "word = \"abcd\"\n",
    "\n",
    "s.hasPath(matrix,word)"
   ]
  },
  {
   "cell_type": "code",
   "execution_count": 23,
   "id": "162d5504",
   "metadata": {},
   "outputs": [
    {
     "data": {
      "text/plain": [
       "True"
      ]
     },
     "execution_count": 23,
     "metadata": {},
     "output_type": "execute_result"
    }
   ],
   "source": [
    "matrix =  [['a','b','c','e'],['s','f','c','s'],['a','d','e','e']]\n",
    "word = \"see\"\n",
    "s.hasPath(matrix,word)"
   ]
  },
  {
   "cell_type": "code",
   "execution_count": 22,
   "id": "9519e700",
   "metadata": {},
   "outputs": [
    {
     "data": {
      "text/plain": [
       "True"
      ]
     },
     "execution_count": 22,
     "metadata": {},
     "output_type": "execute_result"
    }
   ],
   "source": [
    "matrix = [['A','B','C'],['B','E','D'],['F','G','G']]\n",
    "word = \"ABCDEBF\"\n",
    "\n",
    "s.hasPath(matrix,word)"
   ]
  },
  {
   "cell_type": "code",
   "execution_count": 16,
   "id": "1c8ebfe2",
   "metadata": {},
   "outputs": [],
   "source": []
  },
  {
   "cell_type": "code",
   "execution_count": 25,
   "id": "ed5abe37",
   "metadata": {},
   "outputs": [
    {
     "name": "stdout",
     "output_type": "stream",
     "text": [
      "[['a', 'b', 'c', 'e'], ['s', 'f', 'c', 's'], ['a', 'd', 'e', 'e']]\n"
     ]
    },
    {
     "data": {
      "text/plain": [
       "True"
      ]
     },
     "execution_count": 25,
     "metadata": {},
     "output_type": "execute_result"
    }
   ],
   "source": [
    "matrix = [['a','b','c','e'],['s','f','c','s'],['a','d','e','e']]\n",
    "word =\"see\"\n",
    "\n",
    "s = Solution()\n",
    "s.hasPath(matrix,word)"
   ]
  },
  {
   "cell_type": "code",
   "execution_count": null,
   "id": "7e823e42",
   "metadata": {},
   "outputs": [],
   "source": []
  }
 ],
 "metadata": {
  "kernelspec": {
   "display_name": "Python [conda env:root] *",
   "language": "python",
   "name": "conda-root-py"
  },
  "language_info": {
   "codemirror_mode": {
    "name": "ipython",
    "version": 3
   },
   "file_extension": ".py",
   "mimetype": "text/x-python",
   "name": "python",
   "nbconvert_exporter": "python",
   "pygments_lexer": "ipython3",
   "version": "3.8.3"
  }
 },
 "nbformat": 4,
 "nbformat_minor": 5
}
