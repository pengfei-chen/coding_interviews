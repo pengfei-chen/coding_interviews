{
 "cells": [
  {
   "cell_type": "code",
   "execution_count": null,
   "id": "c40f10eb",
   "metadata": {},
   "outputs": [],
   "source": []
  },
  {
   "cell_type": "markdown",
   "id": "7344f835",
   "metadata": {},
   "source": [
    "AC code"
   ]
  },
  {
   "cell_type": "code",
   "execution_count": null,
   "id": "35c20034",
   "metadata": {},
   "outputs": [],
   "source": [
    "class Solution:\n",
    "    def ReverseList(self , head: ListNode) -> ListNode:\n",
    "        # write code here\n",
    "        if head == None or head.next == None:\n",
    "            return head\n",
    "        pre = None\n",
    "        cur = head \n",
    "        while cur != None:\n",
    "            cur.next, tmp = pre, cur.next\n",
    "            pre, cur = cur, tmp\n",
    "        return pre "
   ]
  }
 ],
 "metadata": {
  "kernelspec": {
   "display_name": "Python 3",
   "language": "python",
   "name": "python3"
  },
  "language_info": {
   "codemirror_mode": {
    "name": "ipython",
    "version": 3
   },
   "file_extension": ".py",
   "mimetype": "text/x-python",
   "name": "python",
   "nbconvert_exporter": "python",
   "pygments_lexer": "ipython3",
   "version": "3.8.3"
  }
 },
 "nbformat": 4,
 "nbformat_minor": 5
}
