{
 "cells": [
  {
   "cell_type": "code",
   "execution_count": 5,
   "id": "1690e399",
   "metadata": {},
   "outputs": [
    {
     "name": "stdout",
     "output_type": "stream",
     "text": [
      "17 20 33\n",
      "37\n",
      "17 20 "
     ]
    }
   ],
   "source": [
    "# lst1 = list(map(int,input().split(' ')) for i in input().split(' ') )\n",
    "lst1 = list(map(int,input().split(' ') ))\n",
    "tar = int(input())\n",
    "lst1.sort()\n",
    "ans = []\n",
    "for i in lst1:\n",
    "    for j in lst1:\n",
    "        if i+j == tar:\n",
    "            ans.append(i)\n",
    "            ans.append(j)\n",
    "        \n",
    "    break\n",
    "ans.sort()\n",
    "for i in ans:\n",
    "    print(i, sep=' ', end = ' ')"
   ]
  },
  {
   "cell_type": "code",
   "execution_count": 11,
   "id": "75d0f6fe",
   "metadata": {},
   "outputs": [
    {
     "name": "stdout",
     "output_type": "stream",
     "text": [
      "4 6\n",
      "1\n",
      "2\n",
      "3\n",
      "5\n",
      "3\n"
     ]
    }
   ],
   "source": [
    "n,s = list(int(i) for i in input().split(' ') )\n",
    "lst = []\n",
    "for i in range(n):\n",
    "    num = int(input())\n",
    "    lst.append(num)\n",
    "    \n",
    "lst.sort()\n",
    "cnt = 0\n",
    "\n",
    "for i in range(len(lst)):\n",
    "    l,r = i,n-1\n",
    "    while (lst[l] + lst[r] >= s) and (r>l):\n",
    "        cnt += (r-l)\n",
    "        r -= 1\n",
    "        \n",
    "print(cnt)"
   ]
  },
  {
   "cell_type": "code",
   "execution_count": 10,
   "id": "0c798e7b",
   "metadata": {},
   "outputs": [
    {
     "data": {
      "text/plain": [
       "7"
      ]
     },
     "execution_count": 10,
     "metadata": {},
     "output_type": "execute_result"
    }
   ],
   "source": [
    "2 + (10-5)"
   ]
  },
  {
   "cell_type": "code",
   "execution_count": null,
   "id": "252f4695",
   "metadata": {},
   "outputs": [],
   "source": []
  }
 ],
 "metadata": {
  "kernelspec": {
   "display_name": "Python 3",
   "language": "python",
   "name": "python3"
  },
  "language_info": {
   "codemirror_mode": {
    "name": "ipython",
    "version": 3
   },
   "file_extension": ".py",
   "mimetype": "text/x-python",
   "name": "python",
   "nbconvert_exporter": "python",
   "pygments_lexer": "ipython3",
   "version": "3.8.3"
  }
 },
 "nbformat": 4,
 "nbformat_minor": 5
}
