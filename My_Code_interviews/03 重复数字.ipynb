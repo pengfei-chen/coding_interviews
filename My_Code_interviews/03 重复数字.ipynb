{
 "cells": [
  {
   "cell_type": "code",
   "execution_count": 2,
   "id": "b2b0017f",
   "metadata": {},
   "outputs": [
    {
     "data": {
      "text/plain": [
       "2"
      ]
     },
     "execution_count": 2,
     "metadata": {},
     "output_type": "execute_result"
    }
   ],
   "source": [
    "[2,1,3,1,4].count(1)"
   ]
  },
  {
   "cell_type": "code",
   "execution_count": 8,
   "id": "5f66f4a9",
   "metadata": {},
   "outputs": [],
   "source": [
    "def duplicate(numbers ):\n",
    "    # write code here\n",
    "    flag = 0\n",
    "    for i in numbers:\n",
    "        if numbers.count(i) > 1:\n",
    "            flag = 1\n",
    "            ans =  i\n",
    "    if  flag == 0:\n",
    "        return -1\n",
    "    else:\n",
    "        return ans"
   ]
  },
  {
   "cell_type": "code",
   "execution_count": 9,
   "id": "c48aa263",
   "metadata": {},
   "outputs": [
    {
     "data": {
      "text/plain": [
       "1"
      ]
     },
     "execution_count": 9,
     "metadata": {},
     "output_type": "execute_result"
    }
   ],
   "source": [
    "duplicate([2,1,3,1,4])"
   ]
  },
  {
   "cell_type": "code",
   "execution_count": 10,
   "id": "38aed3e4",
   "metadata": {},
   "outputs": [
    {
     "data": {
      "text/plain": [
       "2"
      ]
     },
     "execution_count": 10,
     "metadata": {},
     "output_type": "execute_result"
    }
   ],
   "source": [
    "[2,1,3,1,4].count(1)"
   ]
  },
  {
   "cell_type": "code",
   "execution_count": 13,
   "id": "1107dfa4",
   "metadata": {},
   "outputs": [],
   "source": [
    "def duplicate(numbers ):\n",
    "    # write code here\n",
    "    help = set()\n",
    "    for i in numbers:\n",
    "        if i not in help:\n",
    "            set.append(i)\n",
    "        else:\n",
    "            return i\n",
    "    return -1"
   ]
  },
  {
   "cell_type": "code",
   "execution_count": 14,
   "id": "81c66195",
   "metadata": {},
   "outputs": [
    {
     "ename": "AttributeError",
     "evalue": "type object 'set' has no attribute 'append'",
     "output_type": "error",
     "traceback": [
      "\u001b[1;31m---------------------------------------------------------------------------\u001b[0m",
      "\u001b[1;31mAttributeError\u001b[0m                            Traceback (most recent call last)",
      "\u001b[1;32m<ipython-input-14-66368b0117d6>\u001b[0m in \u001b[0;36m<module>\u001b[1;34m\u001b[0m\n\u001b[1;32m----> 1\u001b[1;33m \u001b[0mduplicate\u001b[0m\u001b[1;33m(\u001b[0m\u001b[1;33m[\u001b[0m\u001b[1;36m2\u001b[0m\u001b[1;33m,\u001b[0m\u001b[1;36m1\u001b[0m\u001b[1;33m,\u001b[0m\u001b[1;36m3\u001b[0m\u001b[1;33m,\u001b[0m\u001b[1;36m1\u001b[0m\u001b[1;33m,\u001b[0m\u001b[1;36m4\u001b[0m\u001b[1;33m]\u001b[0m\u001b[1;33m)\u001b[0m\u001b[1;33m\u001b[0m\u001b[1;33m\u001b[0m\u001b[0m\n\u001b[0m",
      "\u001b[1;32m<ipython-input-13-f8f30361fa89>\u001b[0m in \u001b[0;36mduplicate\u001b[1;34m(numbers)\u001b[0m\n\u001b[0;32m      4\u001b[0m     \u001b[1;32mfor\u001b[0m \u001b[0mi\u001b[0m \u001b[1;32min\u001b[0m \u001b[0mnumbers\u001b[0m\u001b[1;33m:\u001b[0m\u001b[1;33m\u001b[0m\u001b[1;33m\u001b[0m\u001b[0m\n\u001b[0;32m      5\u001b[0m         \u001b[1;32mif\u001b[0m \u001b[0mi\u001b[0m \u001b[1;32mnot\u001b[0m \u001b[1;32min\u001b[0m \u001b[0mhelp\u001b[0m\u001b[1;33m:\u001b[0m\u001b[1;33m\u001b[0m\u001b[1;33m\u001b[0m\u001b[0m\n\u001b[1;32m----> 6\u001b[1;33m             \u001b[0mset\u001b[0m\u001b[1;33m.\u001b[0m\u001b[0mappend\u001b[0m\u001b[1;33m(\u001b[0m\u001b[0mi\u001b[0m\u001b[1;33m)\u001b[0m\u001b[1;33m\u001b[0m\u001b[1;33m\u001b[0m\u001b[0m\n\u001b[0m\u001b[0;32m      7\u001b[0m         \u001b[1;32melse\u001b[0m\u001b[1;33m:\u001b[0m\u001b[1;33m\u001b[0m\u001b[1;33m\u001b[0m\u001b[0m\n\u001b[0;32m      8\u001b[0m             \u001b[1;32mreturn\u001b[0m \u001b[0mi\u001b[0m\u001b[1;33m\u001b[0m\u001b[1;33m\u001b[0m\u001b[0m\n",
      "\u001b[1;31mAttributeError\u001b[0m: type object 'set' has no attribute 'append'"
     ]
    }
   ],
   "source": [
    "duplicate([2,1,3,1,4])"
   ]
  },
  {
   "cell_type": "code",
   "execution_count": 15,
   "id": "05565c6c",
   "metadata": {},
   "outputs": [],
   "source": [
    "set??"
   ]
  },
  {
   "cell_type": "code",
   "execution_count": 11,
   "id": "c136c40f",
   "metadata": {},
   "outputs": [],
   "source": [
    "def duplicate(numbers ):\n",
    "    # write code here\n",
    "    for i in range(0,len(numbers)):\n",
    "        print(\"===\")\n",
    "        print(i)\n",
    "        if numbers[i] != i:\n",
    "            if numbers[i] == numbers[numbers[i]]:\n",
    "                return numbers[i]\n",
    "            temp = numbers[numbers[i]]\n",
    "            numbers[numbers[i]] = numbers[i]\n",
    "            numbers[i] = temp\n",
    "            i -= 1\n",
    "            print(i)\n",
    "    return -1"
   ]
  },
  {
   "cell_type": "code",
   "execution_count": 12,
   "id": "ebe7d8c1",
   "metadata": {},
   "outputs": [
    {
     "name": "stdout",
     "output_type": "stream",
     "text": [
      "===\n",
      "0\n",
      "-1\n",
      "===\n",
      "1\n",
      "===\n",
      "2\n",
      "===\n",
      "3\n"
     ]
    },
    {
     "data": {
      "text/plain": [
       "1"
      ]
     },
     "execution_count": 12,
     "metadata": {},
     "output_type": "execute_result"
    }
   ],
   "source": [
    "duplicate([2,1,3,1,4])"
   ]
  },
  {
   "cell_type": "markdown",
   "id": "425f88a3",
   "metadata": {},
   "source": [
    "###  Bug:python 的 for 循环中不能修改循环变量 i "
   ]
  },
  {
   "cell_type": "code",
   "execution_count": 21,
   "id": "88d0a448",
   "metadata": {},
   "outputs": [],
   "source": [
    "def duplicate(numbers ):\n",
    "    # write code here\n",
    "    i = 0\n",
    "    length = len(numbers)\n",
    "    while i < length:\n",
    "        if numbers[i] != i:\n",
    "            if numbers[i] == numbers[numbers[i]]:\n",
    "                return numbers[i]\n",
    "            temp = numbers[numbers[i]]\n",
    "            numbers[numbers[i]] = numbers[i]\n",
    "            numbers[i] = temp\n",
    "        i += 1\n",
    "    return -1"
   ]
  },
  {
   "cell_type": "code",
   "execution_count": 22,
   "id": "2fb34f16",
   "metadata": {},
   "outputs": [
    {
     "data": {
      "text/plain": [
       "1"
      ]
     },
     "execution_count": 22,
     "metadata": {},
     "output_type": "execute_result"
    }
   ],
   "source": [
    "duplicate([2,1,3,1,4])"
   ]
  },
  {
   "cell_type": "code",
   "execution_count": null,
   "id": "51f30d9b",
   "metadata": {},
   "outputs": [],
   "source": []
  }
 ],
 "metadata": {
  "kernelspec": {
   "display_name": "Python [conda env:root] *",
   "language": "python",
   "name": "conda-root-py"
  },
  "language_info": {
   "codemirror_mode": {
    "name": "ipython",
    "version": 3
   },
   "file_extension": ".py",
   "mimetype": "text/x-python",
   "name": "python",
   "nbconvert_exporter": "python",
   "pygments_lexer": "ipython3",
   "version": "3.8.3"
  }
 },
 "nbformat": 4,
 "nbformat_minor": 5
}
